{
 "cells": [
  {
   "cell_type": "markdown",
   "metadata": {},
   "source": [
    "\"\"\"\n",
    "Overview of BingSearchAPI\n",
    "1.https://docs.microsoft.com/en-us/azure/cognitive-services/bing-web-search/overview\n",
    "Quickstart guide for using bingapi using python\n",
    "https://docs.microsoft.com/en-us/azure/cognitive-services/bing-web-search/quickstarts/python\n",
    "Search Query in Bing\n",
    "https://docs.microsoft.com/en-us/rest/api/cognitiveservices-bingsearch/bing-web-api-v7-reference\"\"\""
   ]
  },
  {
   "cell_type": "code",
   "execution_count": 52,
   "metadata": {
    "scrolled": true
   },
   "outputs": [
    {
     "name": "stdout",
     "output_type": "stream",
     "text": [
      "Subscription key : 905232cfe57d43e48cc96259dc456aad\n"
     ]
    }
   ],
   "source": [
    "BING_SEARCH_V7_SUBSCRIPTION_KEY = input(\"Subscription key : \") # input the above API key here.\n"
   ]
  },
  {
   "cell_type": "code",
   "execution_count": 28,
   "metadata": {},
   "outputs": [],
   "source": [
    "import json\n",
    "import os \n",
    "from pprint import pprint\n",
    "import requests"
   ]
  },
  {
   "cell_type": "code",
   "execution_count": 29,
   "metadata": {},
   "outputs": [
    {
     "data": {
      "text/plain": [
       "'Artificial Services'"
      ]
     },
     "execution_count": 29,
     "metadata": {},
     "output_type": "execute_result"
    }
   ],
   "source": [
    "query = \"Artificial Services\"\n",
    "query"
   ]
  },
  {
   "cell_type": "code",
   "execution_count": 30,
   "metadata": {},
   "outputs": [],
   "source": [
    "headers = {\n",
    "      # Request headers\n",
    "      'Ocp-Apim-Subscription-Key': BING_SEARCH_V7_SUBSCRIPTION_KEY,\n",
    "}"
   ]
  },
  {
   "cell_type": "code",
   "execution_count": 47,
   "metadata": {},
   "outputs": [],
   "source": [
    "import http.client, urllib.request, urllib.parse, urllib.error, base64\n",
    "import json\n",
    "\n",
    "def search(query, offset=0, count=10):\n",
    "    params = urllib.parse.urlencode({\n",
    "        # Request parameters\n",
    "        'q': query,\n",
    "        'count': count,\n",
    "        'offset': offset,\n",
    "        'mkt': 'en-IN',\n",
    "        #'safesearch': 'Moderate',\n",
    "        })\n",
    "    try:\n",
    "        conn = http.client.HTTPSConnection('api.cognitive.microsoft.com')\n",
    "        conn.request(\"GET\", \"/bing/v7.0/search?%s\" % params, \"{body}\", headers)\n",
    "        response = conn.getresponse()\n",
    "        data = response.read()\n",
    "        conn.close()\n",
    "    except Exception as e:\n",
    "        print(\"[Errno {0}] {1}\".format(e.errno, e.strerror))\n",
    "\n",
    "    return json.loads(data)"
   ]
  },
  {
   "cell_type": "code",
   "execution_count": 48,
   "metadata": {
    "scrolled": true
   },
   "outputs": [],
   "source": [
    "res = search(query,0, 5)"
   ]
  },
  {
   "cell_type": "code",
   "execution_count": 49,
   "metadata": {},
   "outputs": [
    {
     "data": {
      "text/plain": [
       "dict_keys(['_type', 'queryContext', 'webPages', 'relatedSearches', 'rankingResponse'])"
      ]
     },
     "execution_count": 49,
     "metadata": {},
     "output_type": "execute_result"
    }
   ],
   "source": [
    "res.keys()"
   ]
  },
  {
   "cell_type": "code",
   "execution_count": 50,
   "metadata": {
    "scrolled": true
   },
   "outputs": [
    {
     "name": "stdout",
     "output_type": "stream",
     "text": [
      "_type : SearchResponse\n",
      "queryContext : {'originalQuery': 'Artificial Services'}\n",
      "webPages : {'webSearchUrl': 'https://www.bing.com/search?q=Artificial+Services', 'totalEstimatedMatches': 30500000, 'value': [{'id': 'https://api.cognitive.microsoft.com/api/v7/#WebPages.0', 'name': 'Artificial Intelligence (AI) Services & Solutions | Accenture', 'url': 'https://www.accenture.com/in-en/services/ai-artificial-intelligence-index', 'isFamilyFriendly': True, 'displayUrl': 'https://www.accenture.com/in-en/services/ai-artificial-intelligence-index', 'snippet': \"Artificial Intelligence (AI) is a constellation of technologies that allows machines to sense, comprehend, act and learn in order to extend human capabilities. In fact, our clients see the greatest gains when humans and machines work together to complement each other's strengths. As the potential of AI grows every day, so does corporate pressure to use it. But in the rush to implement AI-powered solutions without a larger vision and strategy in place, initiatives often remain siloed with ...\", 'dateLastCrawled': '2020-09-27T21:17:00.0000000Z', 'language': 'en', 'isNavigational': False}, {'id': 'https://api.cognitive.microsoft.com/api/v7/#WebPages.1', 'name': 'Artificial Intelligence Consulting Services - India | IBM', 'url': 'https://www.ibm.com/in-en/services/artificial-intelligence', 'isFamilyFriendly': True, 'displayUrl': 'https://www.ibm.com/in-en/services/artificial-intelligence', 'snippet': 'IBM Global Business Services Watson Artificial Intelligence and Data Platform consulting services help our clients integrate their structured and unstructured data into a unified platform to enable actionable insights. Artificial Intelligence Consulting Services - India | IBM', 'dateLastCrawled': '2020-09-25T14:04:00.0000000Z', 'language': 'en', 'isNavigational': False}, {'id': 'https://api.cognitive.microsoft.com/api/v7/#WebPages.2', 'name': 'Driving Business Results with Artificial Intelligence Services - Data ...', 'url': 'https://www.datasciencecentral.com/profiles/blogs/driving-business-results-with-artificial-intelligence-services', 'isFamilyFriendly': True, 'displayUrl': 'https://www.datasciencecentral.com/profiles/blogs/driving-business-results-with...', 'snippet': 'Artificial Intelligence services can be applicable across industries and customized to meet the needs of the consumers. AI-based services largely depend on the type of data that you offer the system for analysis, so there’s a wide range of products and services and ways that they can be applied in real life. AI systems may operate on all types of data: visual, audio, text, data, and so on.', 'dateLastCrawled': '2020-09-27T14:19:00.0000000Z', 'language': 'en', 'isNavigational': False}, {'id': 'https://api.cognitive.microsoft.com/api/v7/#WebPages.3', 'name': 'Artificial Intelligence Services Company | Machine Learning Solutions', 'url': 'https://aeriestechnology.com/artificial-intelligence-services/', 'isFamilyFriendly': True, 'displayUrl': 'https://aeriestechnology.com/artificial-intelligence-services', 'snippet': 'We have the expertise and ability to strategize and execute artificial intelligence services, integrated with cognitive technology to support your legacy business applications and provide a full spectrum of services including User Behaviour Analytics, Advanced Business Analytics, Big Data Analytics, NLP, Deep Learning, and more. How we do it', 'dateLastCrawled': '2020-09-26T15:48:00.0000000Z', 'language': 'en', 'isNavigational': False}, {'id': 'https://api.cognitive.microsoft.com/api/v7/#WebPages.4', 'name': 'Artificial Intelligence Solutions & AI Service Provider - BR Softech', 'url': 'https://www.brsoftech.com/artificial-intelligence-services.html', 'isFamilyFriendly': True, 'displayUrl': 'https://www.brsoftech.com/artificial-intelligence-services.html', 'snippet': 'Artificial Intelligence Services Include BR Softech is worlds fastest growing artificial intelligence service provider company. We aim to deliver artificial intelligence solutions into different business verticals and unlock Nemours business possibilities while enhancing business performance.', 'dateLastCrawled': '2020-09-26T18:21:00.0000000Z', 'language': 'en', 'isNavigational': False}]}\n",
      "relatedSearches : {'id': 'https://api.cognitive.microsoft.com/api/v7/#RelatedSearches', 'value': [{'text': 'customer service artificial intelligence', 'displayText': 'customer service artificial intelligence', 'webSearchUrl': 'https://www.bing.com/search?q=customer+service+artificial+intelligence'}, {'text': 'artificial intelligence as a service', 'displayText': 'artificial intelligence as a service', 'webSearchUrl': 'https://www.bing.com/search?q=artificial+intelligence+as+a+service'}, {'text': 'ai customer service', 'displayText': 'ai customer service', 'webSearchUrl': 'https://www.bing.com/search?q=ai+customer+service'}, {'text': 'ai model as a service', 'displayText': 'ai model as a service', 'webSearchUrl': 'https://www.bing.com/search?q=ai+model+as+a+service'}, {'text': 'ai in service industry', 'displayText': 'ai in service industry', 'webSearchUrl': 'https://www.bing.com/search?q=ai+in+service+industry'}, {'text': 'congressional research service artificial intelligence', 'displayText': 'congressional research service artificial intelligence', 'webSearchUrl': 'https://www.bing.com/search?q=congressional+research+service+artificial+intelligence'}, {'text': 'digitalgenius', 'displayText': 'digitalgenius', 'webSearchUrl': 'https://www.bing.com/search?q=digitalgenius'}, {'text': 'ming hui huang', 'displayText': 'ming hui huang', 'webSearchUrl': 'https://www.bing.com/search?q=ming+hui+huang'}]}\n",
      "rankingResponse : {'mainline': {'items': [{'answerType': 'WebPages', 'resultIndex': 0, 'value': {'id': 'https://api.cognitive.microsoft.com/api/v7/#WebPages.0'}}, {'answerType': 'WebPages', 'resultIndex': 1, 'value': {'id': 'https://api.cognitive.microsoft.com/api/v7/#WebPages.1'}}, {'answerType': 'WebPages', 'resultIndex': 2, 'value': {'id': 'https://api.cognitive.microsoft.com/api/v7/#WebPages.2'}}, {'answerType': 'WebPages', 'resultIndex': 3, 'value': {'id': 'https://api.cognitive.microsoft.com/api/v7/#WebPages.3'}}, {'answerType': 'WebPages', 'resultIndex': 4, 'value': {'id': 'https://api.cognitive.microsoft.com/api/v7/#WebPages.4'}}]}, 'sidebar': {'items': [{'answerType': 'RelatedSearches', 'value': {'id': 'https://api.cognitive.microsoft.com/api/v7/#RelatedSearches'}}]}}\n"
     ]
    }
   ],
   "source": [
    "for i,j in res.items():\n",
    "    {\n",
    "        print(i,\":\",j)\n",
    "    }"
   ]
  },
  {
   "cell_type": "code",
   "execution_count": 51,
   "metadata": {},
   "outputs": [
    {
     "name": "stdout",
     "output_type": "stream",
     "text": [
      "https://www.accenture.com/in-en/services/ai-artificial-intelligence-index\n",
      "https://www.ibm.com/in-en/services/artificial-intelligence\n",
      "https://www.datasciencecentral.com/profiles/blogs/driving-business-results-with-artificial-intelligence-services\n",
      "https://aeriestechnology.com/artificial-intelligence-services/\n",
      "https://www.brsoftech.com/artificial-intelligence-services.html\n"
     ]
    }
   ],
   "source": [
    "for i in res[\"webPages\"][\"value\"]:\n",
    "    print(i[\"url\"])"
   ]
  },
  {
   "cell_type": "code",
   "execution_count": 35,
   "metadata": {},
   "outputs": [
    {
     "name": "stdout",
     "output_type": "stream",
     "text": [
      "originalQuery : Artificial Services\n",
      "askUserForLocation : True\n"
     ]
    }
   ],
   "source": [
    "for i,j in res[\"queryContext\"].items():\n",
    "    print(i,\":\",j)"
   ]
  },
  {
   "cell_type": "code",
   "execution_count": 36,
   "metadata": {},
   "outputs": [
    {
     "name": "stdout",
     "output_type": "stream",
     "text": [
      "webSearchUrl : https://www.bing.com/search?q=Artificial+Services\n",
      "totalEstimatedMatches : 23900000\n",
      "value : [{'id': 'https://api.cognitive.microsoft.com/api/v7/#WebPages.0', 'name': 'Artificial Intelligence in the C-Store', 'url': 'https://www.cspdailynews.com/technologyservices/artificial-intelligence-c-store', 'isFamilyFriendly': True, 'displayUrl': 'https://www.cspdailynews.com/technologyservices/artificial-intelligence-c-store', 'snippet': 'Artificial intelligence (AI) is another important component of modern loyalty, says Sastry Penumarthy, co-founder and vice president of. Speeding up the time it takes to measure return on investment ... Winsight is a leading B2B information services company focused on the food and beverage industry, providing insight and market intelligence to ...', 'dateLastCrawled': '2020-09-27T07:12:00.0000000Z', 'language': 'en', 'isNavigational': False}, {'id': 'https://api.cognitive.microsoft.com/api/v7/#WebPages.1', 'name': 'Driving Business Results with Artificial Intelligence Services', 'url': 'https://www.datasciencecentral.com/xn/detail/6448529:BlogPost:981311', 'isFamilyFriendly': True, 'displayUrl': 'https://www.datasciencecentral.com/xn/detail/6448529:BlogPost:981311', 'snippet': 'Artificial Intelligence services can be applicable across industries and customized to meet the needs of the consumers. AI-based services largely depend on the type of data that you offer the system for analysis, so there’s a wide range of products and services and ways that they can be applied in real life. AI systems may operate on all types of data: visual, audio, text, data, and so on.', 'dateLastCrawled': '2020-09-27T15:06:00.0000000Z', 'language': 'en', 'isNavigational': False}, {'id': 'https://api.cognitive.microsoft.com/api/v7/#WebPages.2', 'name': '3 Huge Ways Companies Are Delighting Customers With ...', 'url': 'https://www.forbes.com/sites/bernardmarr/2020/08/21/3-huge-ways-companies-are-delighting-customers-with-artificial-intelligence-driven-services/', 'isFamilyFriendly': True, 'displayUrl': 'https://www.forbes.com/sites/bernardmarr/2020/08/21/3-huge-ways-companies-are...', 'snippet': 'Artificial Intelligence (AI) is transforming all aspects of business, including the services you deliver to your customers. Here we look at the ways AI helps companies to reimagine the services ...', 'dateLastCrawled': '2020-09-27T13:25:00.0000000Z', 'language': 'en', 'isNavigational': False}, {'id': 'https://api.cognitive.microsoft.com/api/v7/#WebPages.3', 'name': 'Artificial Turf Maintenance & Repair', 'url': 'https://www.installitdirect.com/services/artificial-turf-maintenance-repair/', 'isFamilyFriendly': True, 'displayUrl': 'https://www.installitdirect.com/services/artificial-turf-maintenance-repair', 'snippet': 'Artificial grass is a great landscaping option for homeowners in search of a low maintenance way to keep their yards looking beautiful all year round. While its synthetic fibers don’t need water to stay soft and green, there are still standard maintenance services that can help keep artificial grass looking great for years to come.', 'dateLastCrawled': '2020-09-27T13:50:00.0000000Z', 'language': 'en', 'isNavigational': False}, {'id': 'https://api.cognitive.microsoft.com/api/v7/#WebPages.4', 'name': 'Services | TurFresh | Artificial Turf Cleaning & Maintenance', 'url': 'https://turfresh.com/services/', 'isFamilyFriendly': True, 'displayUrl': 'https://turfresh.com/services', 'snippet': 'TurFresh provides resdential and commercial artificial turf cleaning services to help restore, repair, and rejuvinate your artificial grass lawn.', 'dateLastCrawled': '2020-09-27T22:17:00.0000000Z', 'language': 'en', 'isNavigational': False}]\n"
     ]
    }
   ],
   "source": [
    "for i,j in res[\"webPages\"].items():\n",
    "    print(i,\":\",j)"
   ]
  },
  {
   "cell_type": "code",
   "execution_count": 37,
   "metadata": {},
   "outputs": [
    {
     "name": "stdout",
     "output_type": "stream",
     "text": [
      "https://api.cognitive.microsoft.com/api/v7/#WebPages.0\n",
      "https://api.cognitive.microsoft.com/api/v7/#WebPages.1\n",
      "https://api.cognitive.microsoft.com/api/v7/#WebPages.2\n",
      "https://api.cognitive.microsoft.com/api/v7/#WebPages.3\n",
      "https://api.cognitive.microsoft.com/api/v7/#WebPages.4\n"
     ]
    }
   ],
   "source": [
    "for i in  res[\"webPages\"][\"value\"]:\n",
    "    print(i[\"id\"])"
   ]
  },
  {
   "cell_type": "code",
   "execution_count": 38,
   "metadata": {},
   "outputs": [
    {
     "data": {
      "text/plain": [
       "[{'id': 'https://api.cognitive.microsoft.com/api/v7/#WebPages.0',\n",
       "  'name': 'Artificial Intelligence in the C-Store',\n",
       "  'url': 'https://www.cspdailynews.com/technologyservices/artificial-intelligence-c-store',\n",
       "  'isFamilyFriendly': True,\n",
       "  'displayUrl': 'https://www.cspdailynews.com/technologyservices/artificial-intelligence-c-store',\n",
       "  'snippet': 'Artificial intelligence (AI) is another important component of modern loyalty, says Sastry Penumarthy, co-founder and vice president of. Speeding up the time it takes to measure return on investment ... Winsight is a leading B2B information services company focused on the food and beverage industry, providing insight and market intelligence to ...',\n",
       "  'dateLastCrawled': '2020-09-27T07:12:00.0000000Z',\n",
       "  'language': 'en',\n",
       "  'isNavigational': False},\n",
       " {'id': 'https://api.cognitive.microsoft.com/api/v7/#WebPages.1',\n",
       "  'name': 'Driving Business Results with Artificial Intelligence Services',\n",
       "  'url': 'https://www.datasciencecentral.com/xn/detail/6448529:BlogPost:981311',\n",
       "  'isFamilyFriendly': True,\n",
       "  'displayUrl': 'https://www.datasciencecentral.com/xn/detail/6448529:BlogPost:981311',\n",
       "  'snippet': 'Artificial Intelligence services can be applicable across industries and customized to meet the needs of the consumers. AI-based services largely depend on the type of data that you offer the system for analysis, so there’s a wide range of products and services and ways that they can be applied in real life. AI systems may operate on all types of data: visual, audio, text, data, and so on.',\n",
       "  'dateLastCrawled': '2020-09-27T15:06:00.0000000Z',\n",
       "  'language': 'en',\n",
       "  'isNavigational': False},\n",
       " {'id': 'https://api.cognitive.microsoft.com/api/v7/#WebPages.2',\n",
       "  'name': '3 Huge Ways Companies Are Delighting Customers With ...',\n",
       "  'url': 'https://www.forbes.com/sites/bernardmarr/2020/08/21/3-huge-ways-companies-are-delighting-customers-with-artificial-intelligence-driven-services/',\n",
       "  'isFamilyFriendly': True,\n",
       "  'displayUrl': 'https://www.forbes.com/sites/bernardmarr/2020/08/21/3-huge-ways-companies-are...',\n",
       "  'snippet': 'Artificial Intelligence (AI) is transforming all aspects of business, including the services you deliver to your customers. Here we look at the ways AI helps companies to reimagine the services ...',\n",
       "  'dateLastCrawled': '2020-09-27T13:25:00.0000000Z',\n",
       "  'language': 'en',\n",
       "  'isNavigational': False},\n",
       " {'id': 'https://api.cognitive.microsoft.com/api/v7/#WebPages.3',\n",
       "  'name': 'Artificial Turf Maintenance & Repair',\n",
       "  'url': 'https://www.installitdirect.com/services/artificial-turf-maintenance-repair/',\n",
       "  'isFamilyFriendly': True,\n",
       "  'displayUrl': 'https://www.installitdirect.com/services/artificial-turf-maintenance-repair',\n",
       "  'snippet': 'Artificial grass is a great landscaping option for homeowners in search of a low maintenance way to keep their yards looking beautiful all year round. While its synthetic fibers don’t need water to stay soft and green, there are still standard maintenance services that can help keep artificial grass looking great for years to come.',\n",
       "  'dateLastCrawled': '2020-09-27T13:50:00.0000000Z',\n",
       "  'language': 'en',\n",
       "  'isNavigational': False},\n",
       " {'id': 'https://api.cognitive.microsoft.com/api/v7/#WebPages.4',\n",
       "  'name': 'Services | TurFresh | Artificial Turf Cleaning & Maintenance',\n",
       "  'url': 'https://turfresh.com/services/',\n",
       "  'isFamilyFriendly': True,\n",
       "  'displayUrl': 'https://turfresh.com/services',\n",
       "  'snippet': 'TurFresh provides resdential and commercial artificial turf cleaning services to help restore, repair, and rejuvinate your artificial grass lawn.',\n",
       "  'dateLastCrawled': '2020-09-27T22:17:00.0000000Z',\n",
       "  'language': 'en',\n",
       "  'isNavigational': False}]"
      ]
     },
     "execution_count": 38,
     "metadata": {},
     "output_type": "execute_result"
    }
   ],
   "source": [
    "res[\"webPages\"][\"value\"]"
   ]
  },
  {
   "cell_type": "code",
   "execution_count": null,
   "metadata": {},
   "outputs": [],
   "source": []
  }
 ],
 "metadata": {
  "kernelspec": {
   "display_name": "Python 3",
   "language": "python",
   "name": "python3"
  },
  "language_info": {
   "codemirror_mode": {
    "name": "ipython",
    "version": 3
   },
   "file_extension": ".py",
   "mimetype": "text/x-python",
   "name": "python",
   "nbconvert_exporter": "python",
   "pygments_lexer": "ipython3",
   "version": "3.8.3"
  }
 },
 "nbformat": 4,
 "nbformat_minor": 4
}
