{
 "cells": [
  {
   "cell_type": "code",
   "execution_count": 1,
   "metadata": {},
   "outputs": [],
   "source": [
    "import requests\n",
    "from bs4 import BeautifulSoup"
   ]
  },
  {
   "cell_type": "code",
   "execution_count": 2,
   "metadata": {},
   "outputs": [],
   "source": [
    "req = \"https://www.imperva.com/blog/is-web-scraping-illegal/\""
   ]
  },
  {
   "cell_type": "code",
   "execution_count": 3,
   "metadata": {},
   "outputs": [],
   "source": [
    "pg = requests.get(req)"
   ]
  },
  {
   "cell_type": "code",
   "execution_count": 4,
   "metadata": {},
   "outputs": [
    {
     "data": {
      "text/plain": [
       "<Response [200]>"
      ]
     },
     "execution_count": 4,
     "metadata": {},
     "output_type": "execute_result"
    }
   ],
   "source": [
    "pg"
   ]
  },
  {
   "cell_type": "code",
   "execution_count": 5,
   "metadata": {},
   "outputs": [],
   "source": [
    "#Request successful, we got 200 as status code"
   ]
  },
  {
   "cell_type": "code",
   "execution_count": 6,
   "metadata": {},
   "outputs": [],
   "source": [
    "#pg.content\n",
    "#To view the html code, we use content attribute"
   ]
  },
  {
   "cell_type": "code",
   "execution_count": 7,
   "metadata": {},
   "outputs": [],
   "source": [
    "#Using Beautifulsoup to parse html page(need to send str format so we are using .text) \n",
    "soup = BeautifulSoup(pg.text, \"html.parser\")"
   ]
  },
  {
   "cell_type": "code",
   "execution_count": 8,
   "metadata": {},
   "outputs": [],
   "source": [
    "na = soup.find(\"h1\",attrs={\"class\":\"post-title\"})"
   ]
  },
  {
   "cell_type": "code",
   "execution_count": 9,
   "metadata": {},
   "outputs": [
    {
     "name": "stdout",
     "output_type": "stream",
     "text": [
      "<h1 class=\"post-title\">Is Web Scraping Illegal? Depends on What the Meaning of the Word Is</h1>\n"
     ]
    }
   ],
   "source": [
    "print(na)"
   ]
  },
  {
   "cell_type": "code",
   "execution_count": 10,
   "metadata": {},
   "outputs": [],
   "source": [
    "#To view htm code in better way\n",
    "#soup.prettify()"
   ]
  },
  {
   "cell_type": "code",
   "execution_count": 11,
   "metadata": {},
   "outputs": [],
   "source": [
    "#Getting reviews from trsutpilot website"
   ]
  },
  {
   "cell_type": "code",
   "execution_count": 12,
   "metadata": {},
   "outputs": [],
   "source": [
    "reviews = requests.get(\"https://www.trustpilot.com/review/amazon-seller.co.uk\")"
   ]
  },
  {
   "cell_type": "code",
   "execution_count": 13,
   "metadata": {},
   "outputs": [],
   "source": [
    "#reviews.content"
   ]
  },
  {
   "cell_type": "code",
   "execution_count": 14,
   "metadata": {},
   "outputs": [],
   "source": [
    "rev_parsed = BeautifulSoup(reviews.content,\"html.parser\")"
   ]
  },
  {
   "cell_type": "code",
   "execution_count": 15,
   "metadata": {},
   "outputs": [],
   "source": [
    "#rev_parsed.prettify()"
   ]
  },
  {
   "cell_type": "code",
   "execution_count": 16,
   "metadata": {},
   "outputs": [],
   "source": [
    "#Getting all the reviews which we can identify using class label \n",
    "rev = rev_parsed.find_all(\"p\", attrs={\"class\":\"review-content__text\"})"
   ]
  },
  {
   "cell_type": "code",
   "execution_count": 17,
   "metadata": {},
   "outputs": [
    {
     "data": {
      "text/plain": [
       "[<p class=\"review-content__text\">\n",
       "                 They have many fees assocaited with selling and they arent very clear about the selling fees\n",
       "             </p>,\n",
       " <p class=\"review-content__text\">\n",
       "                 My experience is a very fun, this company is the best in the world, so much. Thanks.\n",
       "             </p>,\n",
       " <p class=\"review-content__text\">\n",
       "                 This web site is good for beginners who want to earn\n",
       "             </p>,\n",
       " <p class=\"review-content__text\">\n",
       "                 I bought a Shiatsu massage pillow. This is an excellent product and arrived quickly. It also comes with free extended warranty and reduced offers for other products.\n",
       "             </p>,\n",
       " <p class=\"review-content__text\">\n",
       "                 Once again Amazon are on the make! - Just take monies out of their account !!!! They did this tome last year £57.50 no apologies, no explanation had to call to get it returned. Now had a £7.99 for Prime taken beginning of the month - I haven't bought anything from Amazon!!!! Rang and as usual spoken to someone who does not speak English too well ??? - Is that another ploy??? - Can't explain why it was taken - but very quick in returning the amount to my <br/>Bank - just think if they defrauded everyone of their customers with £7.99 good income there\n",
       "             </p>,\n",
       " <p class=\"review-content__text\">\n",
       "                 Ordered stuff on amazon and they never came. So contacted them through chat got through to jakcson and asked him were might items were he was like you recived them. I said if u recived them I wouldn't be on this chat looking for them he was like there's nothing I can do says delivered I'll contact the courier see what they say and that was it. Such a rude person.\n",
       "             </p>,\n",
       " <p class=\"review-content__text\">\n",
       "                 I've been using this site for my client. And I must say they put a lot of fees that's why it's hard to find the right item to list. And sellers can do nothing about it.\n",
       "             </p>,\n",
       " <p class=\"review-content__text\">\n",
       "                 DO NOT Sell on Amazon UK or anywhere on Amazon<br/>If i have a choice i will give amazon less than 1 star for how they treat sellers.<br/>Extremely high fee for selling each item of product as well other charges.The seller support customer services very little English if some at all(they source cheap labour from abroad and they dont treat their employees well as we hear from reports.not ethical employer either) and you will be wasting your time and days of your life  trying to explain the support you need to customer service or you wont understand what they say of their broken English.some of customer service not even trained well and they dont know what support to give you.you will be wasting hours and hours of your day,which you can use to to grow your business.they struck of your listing with out aquiring evidence if your competitor make any case against you to get  you out of their way. frudulant customers claim they have not received item when tracking shows it been delivered.Amazon refund them from your account with your permisson,even if you have a proof from carrier service its been sent sucessfully. Appeals,you hardly get response.Competitor buy your product ,claim as not received,insult you on feedback.You ask for feedback removal,you hardly get response.They suspend your account if system suspect pricing error or for other silly reasons such as change of your deposit account your account .Your accont dont get activated for up to 10 days or more  you will be pulling your hair as the cost of business sky rocket over your head.You make loss money while waiting reactivation.<br/>If you pay premium fees and charges to sell on platform for each and every product you sell.you expect premium service ,that your enquirers are addressed quickly and professionally and you account being reactivated with in 24 hours if there is valid reason to deactivate.<br/>The service you get ,mark my word,is less than what you would get in 3rd world countries .<br/>Most of all,if your account is deactivated for any reason,they dont tell you how long you have to wait,you cannot get customer service to enquire about any other queries related to your account,AND,you get to be threaten by email that you account will not reactivate if you continue contacting customer service for any reason. ABSURD!!<br/>Extremely AUTHORITARIAN Platform.<br/> ..In process of closing the account and i expect nothing but to be draged around for longer as i read in the reviews here.90 days i am told to wait.Jaw dropping.I wish if i had read reviews before i signed up.My advise SELL ELSE WHERE\n",
       "             </p>,\n",
       " <p class=\"review-content__text\">\n",
       "                 5Star as always! I should just get an account with these site as I can never see myself not buying something from them every day\n",
       "             </p>,\n",
       " <p class=\"review-content__text\">\n",
       "                 more trouble with Amazon,yesterday Alexa kept telling me a parcel was arriving that day but it did not then the following day I asked her and she said I had no outstanding orders so logged into Amazon account for the item and it just said WE ASSUME YOUR DELIVERY ARRIVED. this made me mad again phoned Amazon and they say that as it was the Amazon market place they had no control on getting a refund or getting the goods arriving. My point is that my bank account says the money went to Amazon not some trader and when and if parcels arrive here it says in big letters Amazon.They dont care about you and me and my advice would be go else ware I in future with approach the market trader on Amazon directly. Amazon are the worst company out there they don,t care about us they dont give there workers a fair rated of pay and never take responsibility.\n",
       "             </p>,\n",
       " <p class=\"review-content__text\">\n",
       "                 Several years ago I made decent sales on Amazon. Sure, their interface was unfriendly and over-complex, but the sales were there. Gradually over the last few years the selling experience has become worse and worse until I've finally, reluctantly, downgraded my account.  Photos are rejected for reasons that don't apply, and it's impossible to get help that's actually helpful. <br/><br/>The worst of over-complex, over-grown, over-corporate online sales. Maybe 'works' for  huge conglomerates - for the little seller, not at all.  Amazon are currently targetting small sellers in their advertising - my advice is, don't bother and stick to other platforms.\n",
       "             </p>,\n",
       " <p class=\"review-content__text\">\n",
       "                 Amazon seller support is worthless. FBA is a worst option. They allow too many returns by sellers. When customers refund for \"Late by Carrier\" reason by FBA. FBA refuse to reimburse sellers saying it is Non-Amazon entity. Fulfilled by Amazon is Amazon and still refuse to reimbursed. This causes sellers to quit using FBA .<br/><br/>Amazon is forcing sellers to take returns with \"Auto returns\". Buyers are too entitled to refunds and treat items as rentals to return. <br/><br/>Amazon is becoming a worst place to sell. Fees are too high on Amazon.\n",
       "             </p>,\n",
       " <p class=\"review-content__text\">\n",
       "                 Bad customer support. Cant answer emails fast\n",
       "             </p>,\n",
       " <p class=\"review-content__text\">\n",
       "                 Amazon are the worst company for customer service and are terrible for delivery's, over the past few years I have had to chase there drivers to get my parcles as they cannot be bothered to read the address which clearly say do not use Postcode use the direction. for the last 3 days the same thing happened every day have written to the CEO and had contact wit head office of customer complaints but no difference just can't be bothered to fix the problem.I get parcels from China a few times a week and they all arrive.\n",
       "             </p>,\n",
       " <p class=\"review-content__text\">\n",
       "                 Amazon really gives itself the good end of deals, and shafts its sellers.  For buyers, their filter/sort feature is broken because they put sellers who pay for ads at the top in spite of what the buyer has selected for filtering or sorting.  This really hurts sellers who don't pay for ads, and hurts buyers.<br/><br/>RETURNS: sellers are forced to accept returns for the most ridiculous reasons (and lack of reasons).  Many \"customers are very crummy, and look for any excuse to return a product and force the seller pay for all shipping fees (to and from the customer). And of course Amazon goes along with this, not protecting the sellers at all. <br/><br/>Amazon is glad to take both the customer's and the seller's money, and then protect only the customer.  Amazon also has a very difficult FBA shipping/receiving rule set for sellers, in which they will basically require you to send FBA goods to different warehouses all over the country...a tall bill if you are shipping from China and trying to economize by doing only whole pallets of goods. Also difficult because then multiple shipping orders (from factory) must be created with potentially multiple pickups which entail multiple pickup fees: all to satisfy Amazon's laziness of not accommodating the seller whatsoever.  God forbid you run into an issue: Amazon makes it hard to contact live personnel, and when you do they give bad or irrelevant information almost half the time.  Really makes me wonder how they're able to hold it all together.  Amazon charges sellers $40/month, and then also takes in commission and FBA fees.  For all this, they give the seller NOTHING except for the ability to sell through their site.  It's a pretty harsh deal, and I'm looking forward to sellers somehow unionizing, or a competitor coming in who is more fair [to all parties].  Right now amazon is amazing for buyers...but at the expense of sellers.\n",
       "             </p>,\n",
       " <p class=\"review-content__text\">\n",
       "                 I love this website! I was able to purchase a lot of things with the help of it. They have a reasonable price of items, keep it up.\n",
       "             </p>,\n",
       " <p class=\"review-content__text\">\n",
       "                 Amazon seller is very good business and sell products.\n",
       "             </p>]"
      ]
     },
     "execution_count": 17,
     "metadata": {},
     "output_type": "execute_result"
    }
   ],
   "source": [
    "rev"
   ]
  },
  {
   "cell_type": "code",
   "execution_count": 18,
   "metadata": {},
   "outputs": [
    {
     "name": "stdout",
     "output_type": "stream",
     "text": [
      "<class 'bs4.element.ResultSet'> 17\n"
     ]
    }
   ],
   "source": [
    "#No of reviews\n",
    "no_rev = len(rev)\n",
    "typ_rev = type(rev)\n",
    "print(typ_rev, no_rev)                             "
   ]
  },
  {
   "cell_type": "code",
   "execution_count": 19,
   "metadata": {},
   "outputs": [],
   "source": [
    "#Storing all the reviews in cv==csv format"
   ]
  },
  {
   "cell_type": "code",
   "execution_count": 20,
   "metadata": {},
   "outputs": [],
   "source": [
    "import csv\n",
    "\n",
    "with open(\"review.csv\",\"w\", encoding=\"utf-8\") as file:   \n",
    "    f = csv.writer(file)\n",
    "    f.writerow([\"index\", \"reviews\"])\n",
    "    for j,i in enumerate(rev):\n",
    "        z = i.find(\"p\",attrs = {\"class\":\"review-content__text\"})\n",
    "        f.writerow([j,i.text.strip()])"
   ]
  },
  {
   "cell_type": "code",
   "execution_count": 21,
   "metadata": {},
   "outputs": [],
   "source": [
    "import pandas as pd"
   ]
  },
  {
   "cell_type": "code",
   "execution_count": 22,
   "metadata": {},
   "outputs": [],
   "source": [
    "df = pd.read_csv(\"review.csv\", index_col=0)"
   ]
  },
  {
   "cell_type": "code",
   "execution_count": 23,
   "metadata": {},
   "outputs": [
    {
     "data": {
      "text/html": [
       "<div>\n",
       "<style scoped>\n",
       "    .dataframe tbody tr th:only-of-type {\n",
       "        vertical-align: middle;\n",
       "    }\n",
       "\n",
       "    .dataframe tbody tr th {\n",
       "        vertical-align: top;\n",
       "    }\n",
       "\n",
       "    .dataframe thead th {\n",
       "        text-align: right;\n",
       "    }\n",
       "</style>\n",
       "<table border=\"1\" class=\"dataframe\">\n",
       "  <thead>\n",
       "    <tr style=\"text-align: right;\">\n",
       "      <th></th>\n",
       "      <th>reviews</th>\n",
       "    </tr>\n",
       "    <tr>\n",
       "      <th>index</th>\n",
       "      <th></th>\n",
       "    </tr>\n",
       "  </thead>\n",
       "  <tbody>\n",
       "    <tr>\n",
       "      <th>0</th>\n",
       "      <td>They have many fees assocaited with selling an...</td>\n",
       "    </tr>\n",
       "    <tr>\n",
       "      <th>1</th>\n",
       "      <td>My experience is a very fun, this company is t...</td>\n",
       "    </tr>\n",
       "    <tr>\n",
       "      <th>2</th>\n",
       "      <td>This web site is good for beginners who want t...</td>\n",
       "    </tr>\n",
       "    <tr>\n",
       "      <th>3</th>\n",
       "      <td>I bought a Shiatsu massage pillow. This is an ...</td>\n",
       "    </tr>\n",
       "    <tr>\n",
       "      <th>4</th>\n",
       "      <td>Once again Amazon are on the make! - Just take...</td>\n",
       "    </tr>\n",
       "  </tbody>\n",
       "</table>\n",
       "</div>"
      ],
      "text/plain": [
       "                                                 reviews\n",
       "index                                                   \n",
       "0      They have many fees assocaited with selling an...\n",
       "1      My experience is a very fun, this company is t...\n",
       "2      This web site is good for beginners who want t...\n",
       "3      I bought a Shiatsu massage pillow. This is an ...\n",
       "4      Once again Amazon are on the make! - Just take..."
      ]
     },
     "execution_count": 23,
     "metadata": {},
     "output_type": "execute_result"
    }
   ],
   "source": [
    "df.head()"
   ]
  },
  {
   "cell_type": "code",
   "execution_count": 25,
   "metadata": {},
   "outputs": [
    {
     "data": {
      "text/plain": [
       "'My experience is a very fun, this company is the best in the world, so much. Thanks.'"
      ]
     },
     "execution_count": 25,
     "metadata": {},
     "output_type": "execute_result"
    }
   ],
   "source": [
    "df[\"reviews\"][1]"
   ]
  },
  {
   "cell_type": "code",
   "execution_count": null,
   "metadata": {},
   "outputs": [],
   "source": []
  }
 ],
 "metadata": {
  "kernelspec": {
   "display_name": "Python 3",
   "language": "python",
   "name": "python3"
  },
  "language_info": {
   "codemirror_mode": {
    "name": "ipython",
    "version": 3
   },
   "file_extension": ".py",
   "mimetype": "text/x-python",
   "name": "python",
   "nbconvert_exporter": "python",
   "pygments_lexer": "ipython3",
   "version": "3.8.3"
  }
 },
 "nbformat": 4,
 "nbformat_minor": 4
}
